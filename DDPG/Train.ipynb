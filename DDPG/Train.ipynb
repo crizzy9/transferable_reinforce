{
 "cells": [
  {
   "cell_type": "code",
   "execution_count": 2,
   "metadata": {},
   "outputs": [],
   "source": [
    "import gym\n",
    "import torch\n",
    "import numpy as np\n",
    "from ddpg_agent import Agent\n",
    "import matplotlib.pyplot as plt\n",
    "plt.style.use('ggplot')"
   ]
  },
  {
   "cell_type": "code",
   "execution_count": 3,
   "metadata": {},
   "outputs": [],
   "source": [
    "env = gym.make('BipedalWalkerHardcore-v2')\n",
    "\n",
    "state_dim = env.observation_space.shape[0]\n",
    "action_dim = env.action_space.shape[0]\n",
    "agent = Agent(state_size=state_dim, action_size=action_dim, random_seed=0)"
   ]
  },
  {
   "cell_type": "code",
   "execution_count": 3,
   "metadata": {},
   "outputs": [],
   "source": [
    "def ddpg(episodes, step, pretrained, noise):\n",
    "\n",
    "    if pretrained:\n",
    "        agent.actor_local.load_state_dict(torch.load('checkpoint_actor.pth', map_location=\"cpu\"))\n",
    "        agent.critic_local.load_state_dict(torch.load('checkpoint_critic.pth', map_location=\"cpu\"))\n",
    "        agent.actor_target.load_state_dict(torch.load('checkpoint_actor_t.pth', map_location=\"cpu\"))\n",
    "        agent.critic_target.load_state_dict(torch.load('checkpoint_critic_t.pth', map_location=\"cpu\"))\n",
    "\n",
    "    t_saves = np.linspace(0, episodes, 5 - 1, endpoint=False)\n",
    "    reward_list = []\n",
    "    rewards = []\n",
    "    returns = []\n",
    "    lengths = []\n",
    "    losses  = []\n",
    "    G = 0\n",
    "    t_episode = 0\n",
    "    counter = 0\n",
    "    for i in range(episodes):\n",
    "\n",
    "        state = env.reset()\n",
    "        score = 0\n",
    "\n",
    "        for t in range(step):\n",
    "\n",
    "            action = agent.act(state, noise)\n",
    "            next_state, reward, done, info = env.step(action[0])\n",
    "            agent.step(state, action, reward, next_state, done)\n",
    "            #state = next_state.squeeze()\n",
    "            score += reward\n",
    "            rewards.append(score)\n",
    "            if done:\n",
    "                state = env.reset()\n",
    "                for r in rewards[::-1]:\n",
    "                    G = 0.99*G + r\n",
    "                returns.append(G)\n",
    "                lengths.append(t_episode+1)\n",
    "                this_episode = t_episode+1\n",
    "                t_episode = 0\n",
    "                G = 0\n",
    "                rewards = []\n",
    "                break\n",
    "            else:\n",
    "                state = next_state.squeeze()\n",
    "                t_episode += 1\n",
    "\n",
    "        reward_list.append(score)\n",
    "        \n",
    "        print('\\rEpisode {}\\tAverage Score: {:.2f}\\tScore: {:.2f}\\tLength: {:.2f}'.format(i, np.mean(reward_list), score,this_episode), end=\"\")\n",
    "        if i % 50 == 0 and i!=0:\n",
    "            torch.save(agent.actor_local.state_dict(), 'checkpoint_actor.pth')\n",
    "            torch.save(agent.critic_local.state_dict(), 'checkpoint_critic.pth')\n",
    "            torch.save(agent.actor_target.state_dict(), 'checkpoint_actor_t.pth')\n",
    "            torch.save(agent.critic_target.state_dict(), 'checkpoint_critic_t.pth')\n",
    "            np.save(\"reward_list\",np.array(reward_list))\n",
    "            np.save(\"returns\",np.array(returns))\n",
    "            np.save(\"lengths\",np.array(lengths))\n",
    "            print('\\rEpisode {}\\tAverage Score: {:.2f}'.format(i, np.mean(reward_list)))   \n",
    "\n",
    "        # save model\n",
    "        if i in t_saves:\n",
    "            model_name = f'{100 * i / episodes:04.1f}'.replace('.', '_')\n",
    "            torch.save(agent.actor_local.state_dict(), 'checkpoint_actor'+model_name+'.pth')\n",
    "            torch.save(agent.critic_local.state_dict(), 'checkpoint_critic'+model_name+'.pth')\n",
    "            torch.save(agent.actor_target.state_dict(), 'checkpoint_actor_t'+model_name+'.pth')\n",
    "            torch.save(agent.critic_target.state_dict(), 'checkpoint_critic_t'+model_name+'.pth')\n",
    "        \n",
    "        if score >= 270:\n",
    "            print('Task Solved')\n",
    "            counter+=1\n",
    "            if counter == 200:\n",
    "                torch.save(agent.actor_local.state_dict(), 'checkpoint_actor.pth')\n",
    "                torch.save(agent.critic_local.state_dict(), 'checkpoint_critic.pth')\n",
    "                torch.save(agent.actor_target.state_dict(), 'checkpoint_actor_t.pth')\n",
    "                torch.save(agent.critic_target.state_dict(), 'checkpoint_critic_t.pth') \n",
    "                break\n",
    "\n",
    "    print('Training saved')\n",
    "    return reward_list"
   ]
  },
  {
   "cell_type": "code",
   "execution_count": 4,
   "metadata": {},
   "outputs": [
    {
     "name": "stdout",
     "output_type": "stream",
     "text": [
      "Episode 50\tAverage Score: -103.49\tScore: -106.85\tLength: 47.000\n",
      "Episode 100\tAverage Score: -103.08\tScore: -102.44\tLength: 52.00\n",
      "Episode 150\tAverage Score: -104.57\tScore: -107.13\tLength: 47.000\n",
      "Episode 200\tAverage Score: -107.07\tScore: -116.97\tLength: 60.000\n",
      "Episode 250\tAverage Score: -110.89\tScore: -313.04\tLength: 1973.00\n",
      "Episode 300\tAverage Score: -112.62\tScore: -105.45\tLength: 51.0000\n",
      "Episode 350\tAverage Score: -112.01\tScore: -106.04\tLength: 94.000\n",
      "Episode 400\tAverage Score: -111.46\tScore: -103.67\tLength: 83.0000\n",
      "Episode 450\tAverage Score: -111.26\tScore: -103.19\tLength: 106.00\n",
      "Episode 500\tAverage Score: -110.34\tScore: -102.56\tLength: 90.000\n",
      "Episode 550\tAverage Score: -109.99\tScore: -101.19\tLength: 78.0000\n",
      "Episode 600\tAverage Score: -110.14\tScore: -117.01\tLength: 234.000\n",
      "Episode 650\tAverage Score: -110.31\tScore: -106.32\tLength: 67.0000\n",
      "Episode 700\tAverage Score: -109.94\tScore: -110.17\tLength: 71.000\n",
      "Episode 750\tAverage Score: -109.50\tScore: -104.42\tLength: 109.00\n",
      "Episode 800\tAverage Score: -109.53\tScore: -103.35\tLength: 79.0000\n",
      "Episode 850\tAverage Score: -109.53\tScore: -107.70\tLength: 73.0000\n",
      "Episode 900\tAverage Score: -109.38\tScore: -102.97\tLength: 69.0000\n",
      "Episode 950\tAverage Score: -109.12\tScore: -105.18\tLength: 80.000\n",
      "Episode 1000\tAverage Score: -109.61\tScore: -125.55\tLength: 57.000\n",
      "Episode 1050\tAverage Score: -110.02\tScore: -111.53\tLength: 117.00\n",
      "Episode 1100\tAverage Score: -111.46\tScore: -103.21\tLength: 99.0000\n",
      "Episode 1150\tAverage Score: -111.30\tScore: -106.67\tLength: 103.00\n",
      "Episode 1200\tAverage Score: -111.04\tScore: -102.97\tLength: 82.000\n",
      "Episode 1250\tAverage Score: -110.71\tScore: -100.56\tLength: 86.000\n",
      "Episode 1300\tAverage Score: -110.35\tScore: -104.36\tLength: 85.000\n",
      "Episode 1350\tAverage Score: -110.06\tScore: -102.09\tLength: 78.000\n",
      "Episode 1400\tAverage Score: -109.87\tScore: -101.55\tLength: 69.000\n",
      "Episode 1450\tAverage Score: -109.78\tScore: -107.67\tLength: 69.000\n",
      "Episode 1500\tAverage Score: -109.87\tScore: -111.13\tLength: 141.000\n",
      "Episode 1550\tAverage Score: -109.78\tScore: -105.59\tLength: 87.000\n",
      "Episode 1600\tAverage Score: -109.73\tScore: -106.41\tLength: 72.000\n",
      "Episode 1650\tAverage Score: -109.68\tScore: -107.18\tLength: 63.000\n",
      "Episode 1700\tAverage Score: -109.70\tScore: -116.30\tLength: 104.00\n",
      "Episode 1747\tAverage Score: -109.71\tScore: -110.48\tLength: 201.00"
     ]
    },
    {
     "ename": "KeyboardInterrupt",
     "evalue": "",
     "output_type": "error",
     "traceback": [
      "\u001b[1;31m---------------------------------------------------------------------------\u001b[0m",
      "\u001b[1;31mKeyboardInterrupt\u001b[0m                         Traceback (most recent call last)",
      "\u001b[1;32m<ipython-input-4-dc992d0aa992>\u001b[0m in \u001b[0;36m<module>\u001b[1;34m\u001b[0m\n\u001b[1;32m----> 1\u001b[1;33m \u001b[0mscores\u001b[0m \u001b[1;33m=\u001b[0m \u001b[0mddpg\u001b[0m\u001b[1;33m(\u001b[0m\u001b[0mepisodes\u001b[0m\u001b[1;33m=\u001b[0m\u001b[1;36m5000\u001b[0m\u001b[1;33m,\u001b[0m \u001b[0mstep\u001b[0m\u001b[1;33m=\u001b[0m\u001b[1;36m2000\u001b[0m\u001b[1;33m,\u001b[0m \u001b[0mpretrained\u001b[0m\u001b[1;33m=\u001b[0m\u001b[1;36m0\u001b[0m\u001b[1;33m,\u001b[0m \u001b[0mnoise\u001b[0m\u001b[1;33m=\u001b[0m\u001b[1;36m1\u001b[0m\u001b[1;33m)\u001b[0m\u001b[1;33m\u001b[0m\u001b[1;33m\u001b[0m\u001b[0m\n\u001b[0m\u001b[0;32m      2\u001b[0m \u001b[1;33m\u001b[0m\u001b[0m\n\u001b[0;32m      3\u001b[0m \u001b[1;31m#fig = plt.figure()\u001b[0m\u001b[1;33m\u001b[0m\u001b[1;33m\u001b[0m\u001b[1;33m\u001b[0m\u001b[0m\n\u001b[0;32m      4\u001b[0m \u001b[1;31m#plt.plot(np.arange(1, len(scores) + 1), scores)\u001b[0m\u001b[1;33m\u001b[0m\u001b[1;33m\u001b[0m\u001b[1;33m\u001b[0m\u001b[0m\n\u001b[0;32m      5\u001b[0m \u001b[1;31m#plt.ylabel('Score')\u001b[0m\u001b[1;33m\u001b[0m\u001b[1;33m\u001b[0m\u001b[1;33m\u001b[0m\u001b[0m\n",
      "\u001b[1;32m<ipython-input-3-5704d1c7fc0f>\u001b[0m in \u001b[0;36mddpg\u001b[1;34m(episodes, step, pretrained, noise)\u001b[0m\n\u001b[0;32m     30\u001b[0m             \u001b[0maction\u001b[0m \u001b[1;33m=\u001b[0m \u001b[0magent\u001b[0m\u001b[1;33m.\u001b[0m\u001b[0mact\u001b[0m\u001b[1;33m(\u001b[0m\u001b[0mstate\u001b[0m\u001b[1;33m,\u001b[0m \u001b[0mnoise\u001b[0m\u001b[1;33m)\u001b[0m\u001b[1;33m\u001b[0m\u001b[1;33m\u001b[0m\u001b[0m\n\u001b[0;32m     31\u001b[0m             \u001b[0mnext_state\u001b[0m\u001b[1;33m,\u001b[0m \u001b[0mreward\u001b[0m\u001b[1;33m,\u001b[0m \u001b[0mdone\u001b[0m\u001b[1;33m,\u001b[0m \u001b[0minfo\u001b[0m \u001b[1;33m=\u001b[0m \u001b[0menv\u001b[0m\u001b[1;33m.\u001b[0m\u001b[0mstep\u001b[0m\u001b[1;33m(\u001b[0m\u001b[0maction\u001b[0m\u001b[1;33m[\u001b[0m\u001b[1;36m0\u001b[0m\u001b[1;33m]\u001b[0m\u001b[1;33m)\u001b[0m\u001b[1;33m\u001b[0m\u001b[1;33m\u001b[0m\u001b[0m\n\u001b[1;32m---> 32\u001b[1;33m             \u001b[0magent\u001b[0m\u001b[1;33m.\u001b[0m\u001b[0mstep\u001b[0m\u001b[1;33m(\u001b[0m\u001b[0mstate\u001b[0m\u001b[1;33m,\u001b[0m \u001b[0maction\u001b[0m\u001b[1;33m,\u001b[0m \u001b[0mreward\u001b[0m\u001b[1;33m,\u001b[0m \u001b[0mnext_state\u001b[0m\u001b[1;33m,\u001b[0m \u001b[0mdone\u001b[0m\u001b[1;33m)\u001b[0m\u001b[1;33m\u001b[0m\u001b[1;33m\u001b[0m\u001b[0m\n\u001b[0m\u001b[0;32m     33\u001b[0m             \u001b[1;31m#state = next_state.squeeze()\u001b[0m\u001b[1;33m\u001b[0m\u001b[1;33m\u001b[0m\u001b[1;33m\u001b[0m\u001b[0m\n\u001b[0;32m     34\u001b[0m             \u001b[0mscore\u001b[0m \u001b[1;33m+=\u001b[0m \u001b[0mreward\u001b[0m\u001b[1;33m\u001b[0m\u001b[1;33m\u001b[0m\u001b[0m\n",
      "\u001b[1;32m~\\Reinforcement Learning\\Project_part2\\ddpg_agent.py\u001b[0m in \u001b[0;36mstep\u001b[1;34m(self, state, action, reward, next_state, done)\u001b[0m\n\u001b[0;32m     63\u001b[0m         \u001b[1;32mif\u001b[0m \u001b[0mlen\u001b[0m\u001b[1;33m(\u001b[0m\u001b[0mself\u001b[0m\u001b[1;33m.\u001b[0m\u001b[0mmemory\u001b[0m\u001b[1;33m)\u001b[0m \u001b[1;33m>\u001b[0m \u001b[0mBATCH_SIZE\u001b[0m\u001b[1;33m:\u001b[0m\u001b[1;33m\u001b[0m\u001b[1;33m\u001b[0m\u001b[0m\n\u001b[0;32m     64\u001b[0m             \u001b[0mexperiences\u001b[0m \u001b[1;33m=\u001b[0m \u001b[0mself\u001b[0m\u001b[1;33m.\u001b[0m\u001b[0mmemory\u001b[0m\u001b[1;33m.\u001b[0m\u001b[0msample\u001b[0m\u001b[1;33m(\u001b[0m\u001b[1;33m)\u001b[0m\u001b[1;33m\u001b[0m\u001b[1;33m\u001b[0m\u001b[0m\n\u001b[1;32m---> 65\u001b[1;33m             \u001b[0mself\u001b[0m\u001b[1;33m.\u001b[0m\u001b[0mlearn\u001b[0m\u001b[1;33m(\u001b[0m\u001b[0mexperiences\u001b[0m\u001b[1;33m,\u001b[0m \u001b[0mGAMMA\u001b[0m\u001b[1;33m)\u001b[0m\u001b[1;33m\u001b[0m\u001b[1;33m\u001b[0m\u001b[0m\n\u001b[0m\u001b[0;32m     66\u001b[0m \u001b[1;33m\u001b[0m\u001b[0m\n\u001b[0;32m     67\u001b[0m     \u001b[1;32mdef\u001b[0m \u001b[0mact\u001b[0m\u001b[1;33m(\u001b[0m\u001b[0mself\u001b[0m\u001b[1;33m,\u001b[0m \u001b[0mstate\u001b[0m\u001b[1;33m,\u001b[0m \u001b[0madd_noise\u001b[0m\u001b[1;33m=\u001b[0m\u001b[1;32mTrue\u001b[0m\u001b[1;33m)\u001b[0m\u001b[1;33m:\u001b[0m\u001b[1;33m\u001b[0m\u001b[1;33m\u001b[0m\u001b[0m\n",
      "\u001b[1;32m~\\Reinforcement Learning\\Project_part2\\ddpg_agent.py\u001b[0m in \u001b[0;36mlearn\u001b[1;34m(self, experiences, gamma)\u001b[0m\n\u001b[0;32m    137\u001b[0m         \u001b[1;31m# Minimize the loss\u001b[0m\u001b[1;33m\u001b[0m\u001b[1;33m\u001b[0m\u001b[1;33m\u001b[0m\u001b[0m\n\u001b[0;32m    138\u001b[0m         \u001b[0mself\u001b[0m\u001b[1;33m.\u001b[0m\u001b[0mactor_optimizer\u001b[0m\u001b[1;33m.\u001b[0m\u001b[0mzero_grad\u001b[0m\u001b[1;33m(\u001b[0m\u001b[1;33m)\u001b[0m\u001b[1;33m\u001b[0m\u001b[1;33m\u001b[0m\u001b[0m\n\u001b[1;32m--> 139\u001b[1;33m         \u001b[0mactor_loss\u001b[0m\u001b[1;33m.\u001b[0m\u001b[0mbackward\u001b[0m\u001b[1;33m(\u001b[0m\u001b[1;33m)\u001b[0m\u001b[1;33m\u001b[0m\u001b[1;33m\u001b[0m\u001b[0m\n\u001b[0m\u001b[0;32m    140\u001b[0m         \u001b[0mself\u001b[0m\u001b[1;33m.\u001b[0m\u001b[0mactor_optimizer\u001b[0m\u001b[1;33m.\u001b[0m\u001b[0mstep\u001b[0m\u001b[1;33m(\u001b[0m\u001b[1;33m)\u001b[0m\u001b[1;33m\u001b[0m\u001b[1;33m\u001b[0m\u001b[0m\n\u001b[0;32m    141\u001b[0m \u001b[1;33m\u001b[0m\u001b[0m\n",
      "\u001b[1;32mC:\\ProgramData\\Anaconda3\\lib\\site-packages\\torch\\tensor.py\u001b[0m in \u001b[0;36mbackward\u001b[1;34m(self, gradient, retain_graph, create_graph)\u001b[0m\n\u001b[0;32m    116\u001b[0m                 \u001b[0mproducts\u001b[0m\u001b[1;33m.\u001b[0m \u001b[0mDefaults\u001b[0m \u001b[0mto\u001b[0m\u001b[0;31m \u001b[0m\u001b[0;31m`\u001b[0m\u001b[0;31m`\u001b[0m\u001b[1;32mFalse\u001b[0m\u001b[0;31m`\u001b[0m\u001b[0;31m`\u001b[0m\u001b[1;33m.\u001b[0m\u001b[1;33m\u001b[0m\u001b[1;33m\u001b[0m\u001b[0m\n\u001b[0;32m    117\u001b[0m         \"\"\"\n\u001b[1;32m--> 118\u001b[1;33m         \u001b[0mtorch\u001b[0m\u001b[1;33m.\u001b[0m\u001b[0mautograd\u001b[0m\u001b[1;33m.\u001b[0m\u001b[0mbackward\u001b[0m\u001b[1;33m(\u001b[0m\u001b[0mself\u001b[0m\u001b[1;33m,\u001b[0m \u001b[0mgradient\u001b[0m\u001b[1;33m,\u001b[0m \u001b[0mretain_graph\u001b[0m\u001b[1;33m,\u001b[0m \u001b[0mcreate_graph\u001b[0m\u001b[1;33m)\u001b[0m\u001b[1;33m\u001b[0m\u001b[1;33m\u001b[0m\u001b[0m\n\u001b[0m\u001b[0;32m    119\u001b[0m \u001b[1;33m\u001b[0m\u001b[0m\n\u001b[0;32m    120\u001b[0m     \u001b[1;32mdef\u001b[0m \u001b[0mregister_hook\u001b[0m\u001b[1;33m(\u001b[0m\u001b[0mself\u001b[0m\u001b[1;33m,\u001b[0m \u001b[0mhook\u001b[0m\u001b[1;33m)\u001b[0m\u001b[1;33m:\u001b[0m\u001b[1;33m\u001b[0m\u001b[1;33m\u001b[0m\u001b[0m\n",
      "\u001b[1;32mC:\\ProgramData\\Anaconda3\\lib\\site-packages\\torch\\autograd\\__init__.py\u001b[0m in \u001b[0;36mbackward\u001b[1;34m(tensors, grad_tensors, retain_graph, create_graph, grad_variables)\u001b[0m\n\u001b[0;32m     91\u001b[0m     Variable._execution_engine.run_backward(\n\u001b[0;32m     92\u001b[0m         \u001b[0mtensors\u001b[0m\u001b[1;33m,\u001b[0m \u001b[0mgrad_tensors\u001b[0m\u001b[1;33m,\u001b[0m \u001b[0mretain_graph\u001b[0m\u001b[1;33m,\u001b[0m \u001b[0mcreate_graph\u001b[0m\u001b[1;33m,\u001b[0m\u001b[1;33m\u001b[0m\u001b[1;33m\u001b[0m\u001b[0m\n\u001b[1;32m---> 93\u001b[1;33m         allow_unreachable=True)  # allow_unreachable flag\n\u001b[0m\u001b[0;32m     94\u001b[0m \u001b[1;33m\u001b[0m\u001b[0m\n\u001b[0;32m     95\u001b[0m \u001b[1;33m\u001b[0m\u001b[0m\n",
      "\u001b[1;31mKeyboardInterrupt\u001b[0m: "
     ]
    }
   ],
   "source": [
    "scores = ddpg(episodes=5000, step=2000, pretrained=0, noise=1)"
   ]
  },
  {
   "cell_type": "code",
   "execution_count": 13,
   "metadata": {},
   "outputs": [
    {
     "data": {
      "text/plain": [
       "<All keys matched successfully>"
      ]
     },
     "execution_count": 13,
     "metadata": {},
     "output_type": "execute_result"
    }
   ],
   "source": [
    "agent.actor_local.load_state_dict(torch.load('checkpoint_actor.pth', map_location=\"cpu\"))"
   ]
  },
  {
   "cell_type": "code",
   "execution_count": 4,
   "metadata": {},
   "outputs": [],
   "source": [
    "rewards_ = np.load(\"C:\\\\Users\\\\Govind\\\\Desktop\\\\Project_part2\\\\TEst\\\\reward_list.npy\")\n",
    "returns_ = np.load(\"C:\\\\Users\\\\Govind\\\\Desktop\\\\Project_part2\\\\TEst\\\\returns.npy\")"
   ]
  },
  {
   "cell_type": "code",
   "execution_count": 5,
   "metadata": {},
   "outputs": [],
   "source": [
    "def rolling_average(data, window_size):\n",
    "    \"\"\"Smoothen the 1-d data array using a rollin average.\n",
    "\n",
    "    Args:\n",
    "        data: 1-d numpy.array\n",
    "        window_size: size of the smoothing window\n",
    "\n",
    "    Returns:\n",
    "        smooth_data: a 1-d numpy.array with the same size as data\n",
    "    \"\"\"\n",
    "    assert data.ndim == 1\n",
    "    kernel = np.ones(window_size)\n",
    "    smooth_data = np.convolve(data, kernel) / np.convolve(\n",
    "        np.ones_like(data), kernel\n",
    "    )\n",
    "    return smooth_data[: -window_size + 1]"
   ]
  },
  {
   "cell_type": "code",
   "execution_count": 6,
   "metadata": {},
   "outputs": [],
   "source": [
    "rewards_rolling = rolling_average(rewards_,70)"
   ]
  },
  {
   "cell_type": "code",
   "execution_count": null,
   "metadata": {},
   "outputs": [],
   "source": []
  },
  {
   "cell_type": "code",
   "execution_count": 7,
   "metadata": {
    "scrolled": false
   },
   "outputs": [
    {
     "data": {
      "image/png": "[encoded data removed]",
      "text/plain": [
       "<Figure size 432x288 with 1 Axes>"
      ]
     },
     "metadata": {
      "needs_background": "light"
     },
     "output_type": "display_data"
    }
   ],
   "source": [
    "\n",
    "plt.plot(np.arange(0,len(rewards_)),rewards_,label = \"Rewards\")\n",
    "plt.plot(np.arange(0,len(rewards_rolling)),rewards_rolling, label = \"Rolling rewards\")\n",
    "plt.xlabel(\"Episode\")\n",
    "plt.ylabel(\"Returns\")\n",
    "plt.legend()\n",
    "plt.title(\"Returns of episode bipedal walker\")\n",
    "plt.show()"
   ]
  },
  {
   "cell_type": "code",
   "execution_count": null,
   "metadata": {},
   "outputs": [],
   "source": []
  },
  {
   "cell_type": "code",
   "execution_count": null,
   "metadata": {},
   "outputs": [],
   "source": []
  }
 ],
 "metadata": {
  "kernelspec": {
   "display_name": "Python 3",
   "language": "python",
   "name": "python3"
  },
  "language_info": {
   "codemirror_mode": {
    "name": "ipython",
    "version": 3
   },
   "file_extension": ".py",
   "mimetype": "text/x-python",
   "name": "python",
   "nbconvert_exporter": "python",
   "pygments_lexer": "ipython3",
   "version": "3.6.8"
  }
 },
 "nbformat": 4,
 "nbformat_minor": 2
}
