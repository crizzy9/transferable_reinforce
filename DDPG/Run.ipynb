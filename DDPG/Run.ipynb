{
 "cells": [
  {
   "cell_type": "code",
   "execution_count": 1,
   "metadata": {},
   "outputs": [],
   "source": [
    "import gym\n",
    "import torch\n",
    "import numpy as np\n",
    "from ddpg_agent import Agent\n",
    "import matplotlib.pyplot as plt"
   ]
  },
  {
   "cell_type": "code",
   "execution_count": 2,
   "metadata": {},
   "outputs": [],
   "source": [
    "env = gym.make('BipedalWalkerHardcore-v2')\n",
    "\n",
    "state_dim = env.observation_space.shape[0]\n",
    "action_dim = env.action_space.shape[0]\n",
    "agent = Agent(state_size=state_dim, action_size=action_dim, random_seed=0)"
   ]
  },
  {
   "cell_type": "code",
   "execution_count": null,
   "metadata": {},
   "outputs": [],
   "source": [
    "agent.actor_local.load_state_dict(torch.load('Final Weights\\\\checkpoint_actor.pth', map_location=\"cpu\"))\n",
    "agent.critic_local.load_state_dict(torch.load('Final Weights\\\\checkpoint_critic.pth', map_location=\"cpu\"))\n",
    "agent.actor_target.load_state_dict(torch.load('Final Weights\\\\checkpoint_actor_t.pth', map_location=\"cpu\"))\n",
    "agent.critic_target.load_state_dict(torch.load('Final Weights\\\\checkpoint_critic_t.pth', map_location=\"cpu\"))\n",
    "\n",
    "# agent.actor_local.load_state_dict(torch.load('checkpoint_actor_pre.pth', map_location=\"cpu\"))\n",
    "# agent.critic_local.load_state_dict(torch.load('checkpoint_critic_pre.pth', map_location=\"cpu\"))\n",
    "# agent.actor_target.load_state_dict(torch.load('checkpoint_actor_t_pre.pth', map_location=\"cpu\"))\n",
    "# agent.critic_target.load_state_dict(torch.load('checkpoint_critic_t_pre.pth', map_location=\"cpu\"))\n",
    "\n",
    "state = env.reset()   \n",
    "while True:\n",
    "    env.render()\n",
    "    action = agent.act(state)\n",
    "    next_state, reward, done, info = env.step(action[0])\n",
    "    # agent.step(state, action, reward, next_state, done)\n",
    "    state = next_state.squeeze()\n",
    "    if done:\n",
    "        break\n",
    "        \n",
    "env.close()"
   ]
  },
  {
   "cell_type": "code",
   "execution_count": 22,
   "metadata": {},
   "outputs": [],
   "source": [
    "env_to_wrap.close()"
   ]
  },
  {
   "cell_type": "code",
   "execution_count": 15,
   "metadata": {},
   "outputs": [],
   "source": [
    "from gym import wrappers\n",
    "env_to_wrap = gym.make('BipedalWalkerHardcore-v2')\n",
    "env = wrappers.Monitor(env_to_wrap, 'Vid_4', force = True)\n",
    "observation = env.reset()\n",
    "while True:\n",
    "    env.render()\n",
    "    action = agent.act(state)\n",
    "    next_state, reward, done, info = env.step(action[0])\n",
    "    # agent.step(state, action, reward, next_state, done)\n",
    "    state = next_state.squeeze()\n",
    "    if done:\n",
    "        break\n",
    "        \n",
    "env.close()\n",
    "env_to_wrap.close()"
   ]
  },
  {
   "cell_type": "code",
   "execution_count": 54,
   "metadata": {},
   "outputs": [],
   "source": [
    "env.close()"
   ]
  },
  {
   "cell_type": "code",
   "execution_count": null,
   "metadata": {},
   "outputs": [],
   "source": []
  }
 ],
 "metadata": {
  "kernelspec": {
   "display_name": "Python 3",
   "language": "python",
   "name": "python3"
  },
  "language_info": {
   "codemirror_mode": {
    "name": "ipython",
    "version": 3
   },
   "file_extension": ".py",
   "mimetype": "text/x-python",
   "name": "python",
   "nbconvert_exporter": "python",
   "pygments_lexer": "ipython3",
   "version": "3.6.8"
  }
 },
 "nbformat": 4,
 "nbformat_minor": 2
}
